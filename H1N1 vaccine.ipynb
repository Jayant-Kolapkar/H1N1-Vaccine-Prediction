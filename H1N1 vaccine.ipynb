{
 "cells": [
  {
   "cell_type": "code",
   "execution_count": 2,
   "id": "7e4041b9",
   "metadata": {},
   "outputs": [],
   "source": [
    "import pandas as pd \n",
    "import numpy as np\n",
    "import matplotlib.pyplot as plt\n",
    "import seaborn as sns\n",
    "\n",
    "\n",
    "#Regressors\n",
    "from sklearn.linear_model import LinearRegression\n",
    "from sklearn.svm import SVR\n",
    "from sklearn.tree import DecisionTreeRegressor\n",
    "from sklearn.ensemble import RandomForestRegressor, GradientBoostingRegressor, AdaBoostRegressor, BaggingRegressor\n",
    "from sklearn.model_selection import train_test_split\n",
    "from sklearn.metrics import mean_squared_error, r2_score\n",
    "\n",
    "#Classifiers\n",
    "from sklearn.ensemble import AdaBoostClassifier , GradientBoostingClassifier,RandomForestClassifier\n",
    "from sklearn.linear_model import LogisticRegression\n",
    "from sklearn.neighbors import KNeighborsClassifier\n",
    "from sklearn.tree import DecisionTreeClassifier \n",
    "from sklearn.metrics import accuracy_score, precision_score, recall_score, f1_score, confusion_matrix\n",
    "\n",
    "#Model evaluation tools\n",
    "from sklearn.metrics import classification_report , accuracy_score , confusion_matrix\n",
    "from sklearn.metrics import f1_score\n",
    "from sklearn.model_selection import cross_val_score\n",
    "\n",
    "#Data processing functions\n",
    "\n",
    "from sklearn.model_selection import train_test_split\n",
    "from sklearn.preprocessing import LabelEncoder\n",
    "le = LabelEncoder()\n",
    "\n",
    "import warnings\n",
    "warnings.filterwarnings(\"ignore\")"
   ]
  },
  {
   "cell_type": "code",
   "execution_count": 4,
   "id": "d5df5db0",
   "metadata": {},
   "outputs": [],
   "source": [
    "h1n1_data = pd.read_csv('C:/Users/Jayant/Downloads/h1n1_vaccine_prediction.csv')"
   ]
  },
  {
   "cell_type": "code",
   "execution_count": 5,
   "id": "319dddde",
   "metadata": {},
   "outputs": [
    {
     "name": "stdout",
     "output_type": "stream",
     "text": [
      "   unique_id  h1n1_worry  h1n1_awareness  antiviral_medication  \\\n",
      "0          0         1.0             0.0                   0.0   \n",
      "1          1         3.0             2.0                   0.0   \n",
      "2          2         1.0             1.0                   0.0   \n",
      "3          3         1.0             1.0                   0.0   \n",
      "4          4         2.0             1.0                   0.0   \n",
      "\n",
      "   contact_avoidance  bought_face_mask  wash_hands_frequently  \\\n",
      "0                0.0               0.0                    0.0   \n",
      "1                1.0               0.0                    1.0   \n",
      "2                1.0               0.0                    0.0   \n",
      "3                1.0               0.0                    1.0   \n",
      "4                1.0               0.0                    1.0   \n",
      "\n",
      "   avoid_large_gatherings  reduced_outside_home_cont  avoid_touch_face  ...  \\\n",
      "0                     0.0                        1.0               1.0  ...   \n",
      "1                     0.0                        1.0               1.0  ...   \n",
      "2                     0.0                        0.0               0.0  ...   \n",
      "3                     1.0                        0.0               0.0  ...   \n",
      "4                     1.0                        0.0               1.0  ...   \n",
      "\n",
      "    race     sex               income_level  marital_status  housing_status  \\\n",
      "0  White  Female              Below Poverty     Not Married             Own   \n",
      "1  White    Male              Below Poverty     Not Married            Rent   \n",
      "2  White    Male  <= $75,000, Above Poverty     Not Married             Own   \n",
      "3  White  Female              Below Poverty     Not Married            Rent   \n",
      "4  White  Female  <= $75,000, Above Poverty         Married             Own   \n",
      "\n",
      "           employment                census_msa  no_of_adults  no_of_children  \\\n",
      "0  Not in Labor Force                   Non-MSA           0.0             0.0   \n",
      "1            Employed  MSA, Not Principle  City           0.0             0.0   \n",
      "2            Employed  MSA, Not Principle  City           2.0             0.0   \n",
      "3  Not in Labor Force       MSA, Principle City           0.0             0.0   \n",
      "4            Employed  MSA, Not Principle  City           1.0             0.0   \n",
      "\n",
      "   h1n1_vaccine  \n",
      "0             0  \n",
      "1             0  \n",
      "2             0  \n",
      "3             0  \n",
      "4             0  \n",
      "\n",
      "[5 rows x 34 columns]\n"
     ]
    }
   ],
   "source": [
    "print(h1n1_data.head())"
   ]
  },
  {
   "cell_type": "code",
   "execution_count": 6,
   "id": "7b509e42",
   "metadata": {},
   "outputs": [
    {
     "name": "stdout",
     "output_type": "stream",
     "text": [
      "<class 'pandas.core.frame.DataFrame'>\n",
      "RangeIndex: 26707 entries, 0 to 26706\n",
      "Data columns (total 34 columns):\n",
      " #   Column                     Non-Null Count  Dtype  \n",
      "---  ------                     --------------  -----  \n",
      " 0   unique_id                  26707 non-null  int64  \n",
      " 1   h1n1_worry                 26615 non-null  float64\n",
      " 2   h1n1_awareness             26591 non-null  float64\n",
      " 3   antiviral_medication       26636 non-null  float64\n",
      " 4   contact_avoidance          26499 non-null  float64\n",
      " 5   bought_face_mask           26688 non-null  float64\n",
      " 6   wash_hands_frequently      26665 non-null  float64\n",
      " 7   avoid_large_gatherings     26620 non-null  float64\n",
      " 8   reduced_outside_home_cont  26625 non-null  float64\n",
      " 9   avoid_touch_face           26579 non-null  float64\n",
      " 10  dr_recc_h1n1_vacc          24547 non-null  float64\n",
      " 11  dr_recc_seasonal_vacc      24547 non-null  float64\n",
      " 12  chronic_medic_condition    25736 non-null  float64\n",
      " 13  cont_child_undr_6_mnths    25887 non-null  float64\n",
      " 14  is_health_worker           25903 non-null  float64\n",
      " 15  has_health_insur           14433 non-null  float64\n",
      " 16  is_h1n1_vacc_effective     26316 non-null  float64\n",
      " 17  is_h1n1_risky              26319 non-null  float64\n",
      " 18  sick_from_h1n1_vacc        26312 non-null  float64\n",
      " 19  is_seas_vacc_effective     26245 non-null  float64\n",
      " 20  is_seas_risky              26193 non-null  float64\n",
      " 21  sick_from_seas_vacc        26170 non-null  float64\n",
      " 22  age_bracket                26707 non-null  object \n",
      " 23  qualification              25300 non-null  object \n",
      " 24  race                       26707 non-null  object \n",
      " 25  sex                        26707 non-null  object \n",
      " 26  income_level               22284 non-null  object \n",
      " 27  marital_status             25299 non-null  object \n",
      " 28  housing_status             24665 non-null  object \n",
      " 29  employment                 25244 non-null  object \n",
      " 30  census_msa                 26707 non-null  object \n",
      " 31  no_of_adults               26458 non-null  float64\n",
      " 32  no_of_children             26458 non-null  float64\n",
      " 33  h1n1_vaccine               26707 non-null  int64  \n",
      "dtypes: float64(23), int64(2), object(9)\n",
      "memory usage: 6.9+ MB\n",
      "None\n"
     ]
    }
   ],
   "source": [
    "print(h1n1_data.info())"
   ]
  },
  {
   "cell_type": "code",
   "execution_count": 7,
   "id": "99990208",
   "metadata": {},
   "outputs": [
    {
     "name": "stdout",
     "output_type": "stream",
     "text": [
      "unique_id                        0\n",
      "h1n1_worry                      92\n",
      "h1n1_awareness                 116\n",
      "antiviral_medication            71\n",
      "contact_avoidance              208\n",
      "bought_face_mask                19\n",
      "wash_hands_frequently           42\n",
      "avoid_large_gatherings          87\n",
      "reduced_outside_home_cont       82\n",
      "avoid_touch_face               128\n",
      "dr_recc_h1n1_vacc             2160\n",
      "dr_recc_seasonal_vacc         2160\n",
      "chronic_medic_condition        971\n",
      "cont_child_undr_6_mnths        820\n",
      "is_health_worker               804\n",
      "has_health_insur             12274\n",
      "is_h1n1_vacc_effective         391\n",
      "is_h1n1_risky                  388\n",
      "sick_from_h1n1_vacc            395\n",
      "is_seas_vacc_effective         462\n",
      "is_seas_risky                  514\n",
      "sick_from_seas_vacc            537\n",
      "age_bracket                      0\n",
      "qualification                 1407\n",
      "race                             0\n",
      "sex                              0\n",
      "income_level                  4423\n",
      "marital_status                1408\n",
      "housing_status                2042\n",
      "employment                    1463\n",
      "census_msa                       0\n",
      "no_of_adults                   249\n",
      "no_of_children                 249\n",
      "h1n1_vaccine                     0\n",
      "dtype: int64\n"
     ]
    }
   ],
   "source": [
    "print(h1n1_data.isnull().sum())"
   ]
  },
  {
   "cell_type": "code",
   "execution_count": 8,
   "id": "24d14997",
   "metadata": {},
   "outputs": [],
   "source": [
    "# Create a label encoder object\n",
    "le = LabelEncoder()\n",
    "\n",
    "# Encode the categorical columns\n",
    "categorical_cols = ['age_bracket', 'qualification', 'race', 'sex', 'income_level', 'marital_status', 'housing_status', 'employment', 'census_msa']\n",
    "for col in categorical_cols:\n",
    "    h1n1_data[col] = le.fit_transform(h1n1_data[col])"
   ]
  },
  {
   "cell_type": "code",
   "execution_count": 9,
   "id": "0c7d0baf",
   "metadata": {},
   "outputs": [
    {
     "name": "stdout",
     "output_type": "stream",
     "text": [
      "   unique_id  h1n1_worry  h1n1_awareness  antiviral_medication  \\\n",
      "0          0         1.0             0.0                   0.0   \n",
      "1          1         3.0             2.0                   0.0   \n",
      "2          2         1.0             1.0                   0.0   \n",
      "3          3         1.0             1.0                   0.0   \n",
      "4          4         2.0             1.0                   0.0   \n",
      "\n",
      "   contact_avoidance  bought_face_mask  wash_hands_frequently  \\\n",
      "0                0.0               0.0                    0.0   \n",
      "1                1.0               0.0                    1.0   \n",
      "2                1.0               0.0                    0.0   \n",
      "3                1.0               0.0                    1.0   \n",
      "4                1.0               0.0                    1.0   \n",
      "\n",
      "   avoid_large_gatherings  reduced_outside_home_cont  avoid_touch_face  ...  \\\n",
      "0                     0.0                        1.0               1.0  ...   \n",
      "1                     0.0                        1.0               1.0  ...   \n",
      "2                     0.0                        0.0               0.0  ...   \n",
      "3                     1.0                        0.0               0.0  ...   \n",
      "4                     1.0                        0.0               1.0  ...   \n",
      "\n",
      "   race  sex  income_level  marital_status  housing_status  employment  \\\n",
      "0     3    0             2               1               0           1   \n",
      "1     3    1             2               1               1           0   \n",
      "2     3    1             0               1               0           0   \n",
      "3     3    0             2               1               1           1   \n",
      "4     3    0             0               0               0           0   \n",
      "\n",
      "   census_msa  no_of_adults  no_of_children  h1n1_vaccine  \n",
      "0           2           0.0             0.0             0  \n",
      "1           0           0.0             0.0             0  \n",
      "2           0           2.0             0.0             0  \n",
      "3           1           0.0             0.0             0  \n",
      "4           0           1.0             0.0             0  \n",
      "\n",
      "[5 rows x 34 columns]\n"
     ]
    }
   ],
   "source": [
    "print(h1n1_data.head())"
   ]
  },
  {
   "cell_type": "code",
   "execution_count": 10,
   "id": "2e6d101b",
   "metadata": {},
   "outputs": [
    {
     "name": "stdout",
     "output_type": "stream",
     "text": [
      "<class 'pandas.core.frame.DataFrame'>\n",
      "RangeIndex: 26707 entries, 0 to 26706\n",
      "Data columns (total 34 columns):\n",
      " #   Column                     Non-Null Count  Dtype  \n",
      "---  ------                     --------------  -----  \n",
      " 0   unique_id                  26707 non-null  int64  \n",
      " 1   h1n1_worry                 26615 non-null  float64\n",
      " 2   h1n1_awareness             26591 non-null  float64\n",
      " 3   antiviral_medication       26636 non-null  float64\n",
      " 4   contact_avoidance          26499 non-null  float64\n",
      " 5   bought_face_mask           26688 non-null  float64\n",
      " 6   wash_hands_frequently      26665 non-null  float64\n",
      " 7   avoid_large_gatherings     26620 non-null  float64\n",
      " 8   reduced_outside_home_cont  26625 non-null  float64\n",
      " 9   avoid_touch_face           26579 non-null  float64\n",
      " 10  dr_recc_h1n1_vacc          24547 non-null  float64\n",
      " 11  dr_recc_seasonal_vacc      24547 non-null  float64\n",
      " 12  chronic_medic_condition    25736 non-null  float64\n",
      " 13  cont_child_undr_6_mnths    25887 non-null  float64\n",
      " 14  is_health_worker           25903 non-null  float64\n",
      " 15  has_health_insur           14433 non-null  float64\n",
      " 16  is_h1n1_vacc_effective     26316 non-null  float64\n",
      " 17  is_h1n1_risky              26319 non-null  float64\n",
      " 18  sick_from_h1n1_vacc        26312 non-null  float64\n",
      " 19  is_seas_vacc_effective     26245 non-null  float64\n",
      " 20  is_seas_risky              26193 non-null  float64\n",
      " 21  sick_from_seas_vacc        26170 non-null  float64\n",
      " 22  age_bracket                26707 non-null  int32  \n",
      " 23  qualification              26707 non-null  int32  \n",
      " 24  race                       26707 non-null  int32  \n",
      " 25  sex                        26707 non-null  int32  \n",
      " 26  income_level               26707 non-null  int32  \n",
      " 27  marital_status             26707 non-null  int32  \n",
      " 28  housing_status             26707 non-null  int32  \n",
      " 29  employment                 26707 non-null  int32  \n",
      " 30  census_msa                 26707 non-null  int32  \n",
      " 31  no_of_adults               26458 non-null  float64\n",
      " 32  no_of_children             26458 non-null  float64\n",
      " 33  h1n1_vaccine               26707 non-null  int64  \n",
      "dtypes: float64(23), int32(9), int64(2)\n",
      "memory usage: 6.0 MB\n",
      "None\n"
     ]
    }
   ],
   "source": [
    "print(h1n1_data.info())"
   ]
  },
  {
   "cell_type": "code",
   "execution_count": 11,
   "id": "9cb477d6",
   "metadata": {},
   "outputs": [
    {
     "name": "stdout",
     "output_type": "stream",
     "text": [
      "unique_id                        0\n",
      "h1n1_worry                      92\n",
      "h1n1_awareness                 116\n",
      "antiviral_medication            71\n",
      "contact_avoidance              208\n",
      "bought_face_mask                19\n",
      "wash_hands_frequently           42\n",
      "avoid_large_gatherings          87\n",
      "reduced_outside_home_cont       82\n",
      "avoid_touch_face               128\n",
      "dr_recc_h1n1_vacc             2160\n",
      "dr_recc_seasonal_vacc         2160\n",
      "chronic_medic_condition        971\n",
      "cont_child_undr_6_mnths        820\n",
      "is_health_worker               804\n",
      "has_health_insur             12274\n",
      "is_h1n1_vacc_effective         391\n",
      "is_h1n1_risky                  388\n",
      "sick_from_h1n1_vacc            395\n",
      "is_seas_vacc_effective         462\n",
      "is_seas_risky                  514\n",
      "sick_from_seas_vacc            537\n",
      "age_bracket                      0\n",
      "qualification                    0\n",
      "race                             0\n",
      "sex                              0\n",
      "income_level                     0\n",
      "marital_status                   0\n",
      "housing_status                   0\n",
      "employment                       0\n",
      "census_msa                       0\n",
      "no_of_adults                   249\n",
      "no_of_children                 249\n",
      "h1n1_vaccine                     0\n",
      "dtype: int64\n"
     ]
    }
   ],
   "source": [
    "print(h1n1_data.isnull().sum())"
   ]
  },
  {
   "cell_type": "code",
   "execution_count": 12,
   "id": "46c194c6",
   "metadata": {},
   "outputs": [
    {
     "name": "stdout",
     "output_type": "stream",
     "text": [
      "          unique_id    h1n1_worry  h1n1_awareness  antiviral_medication  \\\n",
      "count  26707.000000  26615.000000    26591.000000          26636.000000   \n",
      "mean   13353.000000      1.618486        1.262532              0.048844   \n",
      "std     7709.791156      0.910311        0.618149              0.215545   \n",
      "min        0.000000      0.000000        0.000000              0.000000   \n",
      "25%     6676.500000      1.000000        1.000000              0.000000   \n",
      "50%    13353.000000      2.000000        1.000000              0.000000   \n",
      "75%    20029.500000      2.000000        2.000000              0.000000   \n",
      "max    26706.000000      3.000000        2.000000              1.000000   \n",
      "\n",
      "       contact_avoidance  bought_face_mask  wash_hands_frequently  \\\n",
      "count       26499.000000      26688.000000           26665.000000   \n",
      "mean            0.725612          0.068982               0.825614   \n",
      "std             0.446214          0.253429               0.379448   \n",
      "min             0.000000          0.000000               0.000000   \n",
      "25%             0.000000          0.000000               1.000000   \n",
      "50%             1.000000          0.000000               1.000000   \n",
      "75%             1.000000          0.000000               1.000000   \n",
      "max             1.000000          1.000000               1.000000   \n",
      "\n",
      "       avoid_large_gatherings  reduced_outside_home_cont  avoid_touch_face  \\\n",
      "count             26620.00000               26625.000000      26579.000000   \n",
      "mean                  0.35864                   0.337315          0.677264   \n",
      "std                   0.47961                   0.472802          0.467531   \n",
      "min                   0.00000                   0.000000          0.000000   \n",
      "25%                   0.00000                   0.000000          0.000000   \n",
      "50%                   0.00000                   0.000000          1.000000   \n",
      "75%                   1.00000                   1.000000          1.000000   \n",
      "max                   1.00000                   1.000000          1.000000   \n",
      "\n",
      "       ...          race           sex  income_level  marital_status  \\\n",
      "count  ...  26707.000000  26707.000000  26707.000000    26707.000000   \n",
      "mean   ...      2.570300      0.406223      0.953795        0.545175   \n",
      "std    ...      0.923226      0.491136      1.113444        0.594485   \n",
      "min    ...      0.000000      0.000000      0.000000        0.000000   \n",
      "25%    ...      3.000000      0.000000      0.000000        0.000000   \n",
      "50%    ...      3.000000      0.000000      1.000000        0.000000   \n",
      "75%    ...      3.000000      1.000000      2.000000        1.000000   \n",
      "max    ...      3.000000      1.000000      3.000000        2.000000   \n",
      "\n",
      "       housing_status    employment    census_msa  no_of_adults  \\\n",
      "count    26707.000000  26707.000000  26707.000000  26458.000000   \n",
      "mean         0.374920      0.656232      0.833489      0.886499   \n",
      "std          0.622325      0.814312      0.823313      0.753422   \n",
      "min          0.000000      0.000000      0.000000      0.000000   \n",
      "25%          0.000000      0.000000      0.000000      0.000000   \n",
      "50%          0.000000      0.000000      1.000000      1.000000   \n",
      "75%          1.000000      1.000000      2.000000      1.000000   \n",
      "max          2.000000      3.000000      2.000000      3.000000   \n",
      "\n",
      "       no_of_children  h1n1_vaccine  \n",
      "count    26458.000000  26707.000000  \n",
      "mean         0.534583      0.212454  \n",
      "std          0.928173      0.409052  \n",
      "min          0.000000      0.000000  \n",
      "25%          0.000000      0.000000  \n",
      "50%          0.000000      0.000000  \n",
      "75%          1.000000      0.000000  \n",
      "max          3.000000      1.000000  \n",
      "\n",
      "[8 rows x 34 columns]\n"
     ]
    }
   ],
   "source": [
    "print(h1n1_data.describe())"
   ]
  },
  {
   "cell_type": "code",
   "execution_count": 18,
   "id": "079b3936",
   "metadata": {},
   "outputs": [
    {
     "data": {
      "text/plain": [
       "unique_id                        0\n",
       "h1n1_worry                      92\n",
       "h1n1_awareness                 116\n",
       "antiviral_medication            71\n",
       "contact_avoidance              208\n",
       "bought_face_mask                19\n",
       "wash_hands_frequently           42\n",
       "avoid_large_gatherings          87\n",
       "reduced_outside_home_cont       82\n",
       "avoid_touch_face               128\n",
       "dr_recc_h1n1_vacc             2160\n",
       "dr_recc_seasonal_vacc         2160\n",
       "chronic_medic_condition        971\n",
       "cont_child_undr_6_mnths        820\n",
       "is_health_worker               804\n",
       "has_health_insur             12274\n",
       "is_h1n1_vacc_effective         391\n",
       "is_h1n1_risky                  388\n",
       "sick_from_h1n1_vacc            395\n",
       "is_seas_vacc_effective         462\n",
       "is_seas_risky                  514\n",
       "sick_from_seas_vacc            537\n",
       "age_bracket                      0\n",
       "qualification                    0\n",
       "race                             0\n",
       "sex                              0\n",
       "income_level                     0\n",
       "marital_status                   0\n",
       "housing_status                   0\n",
       "employment                       0\n",
       "census_msa                       0\n",
       "no_of_adults                   249\n",
       "no_of_children                 249\n",
       "h1n1_vaccine                     0\n",
       "dtype: int64"
      ]
     },
     "execution_count": 18,
     "metadata": {},
     "output_type": "execute_result"
    }
   ],
   "source": [
    "h1n1_data.isnull().sum()"
   ]
  },
  {
   "cell_type": "code",
   "execution_count": 20,
   "id": "b3904ffd",
   "metadata": {},
   "outputs": [
    {
     "data": {
      "text/plain": [
       "<AxesSubplot:>"
      ]
     },
     "execution_count": 20,
     "metadata": {},
     "output_type": "execute_result"
    },
    {
     "data": {
      "image/png": "[encoded data removed]",
      "text/plain": [
       "<Figure size 720x432 with 2 Axes>"
      ]
     },
     "metadata": {
      "needs_background": "light"
     },
     "output_type": "display_data"
    }
   ],
   "source": [
    "plt.figure(figsize=(10,6))\n",
    "sns.heatmap(h1n1_data.isnull(),yticklabels=False)"
   ]
  },
  {
   "cell_type": "code",
   "execution_count": 22,
   "id": "eb90a746",
   "metadata": {},
   "outputs": [
    {
     "name": "stdout",
     "output_type": "stream",
     "text": [
      "   unique_id  h1n1_worry  h1n1_awareness  antiviral_medication  \\\n",
      "0          0         1.0             0.0                   0.0   \n",
      "1          1         3.0             2.0                   0.0   \n",
      "2          2         1.0             1.0                   0.0   \n",
      "3          3         1.0             1.0                   0.0   \n",
      "4          4         2.0             1.0                   0.0   \n",
      "\n",
      "   contact_avoidance  bought_face_mask  wash_hands_frequently  \\\n",
      "0                0.0               0.0                    0.0   \n",
      "1                1.0               0.0                    1.0   \n",
      "2                1.0               0.0                    0.0   \n",
      "3                1.0               0.0                    1.0   \n",
      "4                1.0               0.0                    1.0   \n",
      "\n",
      "   avoid_large_gatherings  reduced_outside_home_cont  avoid_touch_face  ...  \\\n",
      "0                     0.0                        1.0               1.0  ...   \n",
      "1                     0.0                        1.0               1.0  ...   \n",
      "2                     0.0                        0.0               0.0  ...   \n",
      "3                     1.0                        0.0               0.0  ...   \n",
      "4                     1.0                        0.0               1.0  ...   \n",
      "\n",
      "   race  sex  income_level  marital_status  housing_status  employment  \\\n",
      "0     3    0             2               1               0           1   \n",
      "1     3    1             2               1               1           0   \n",
      "2     3    1             0               1               0           0   \n",
      "3     3    0             2               1               1           1   \n",
      "4     3    0             0               0               0           0   \n",
      "\n",
      "   census_msa  no_of_adults  no_of_children  h1n1_vaccine  \n",
      "0           2           0.0             0.0             0  \n",
      "1           0           0.0             0.0             0  \n",
      "2           0           2.0             0.0             0  \n",
      "3           1           0.0             0.0             0  \n",
      "4           0           1.0             0.0             0  \n",
      "\n",
      "[5 rows x 34 columns]\n"
     ]
    }
   ],
   "source": [
    "nan_counts = {\n",
    "    \"unique_id\": 0,\n",
    "    \"h1n1_worry\": 92,\n",
    "    \"h1n1_awareness\": 116,\n",
    "    \"antiviral_medication\": 71,\n",
    "    \"contact_avoidance\": 208,\n",
    "    \"bought_face_mask\": 19,\n",
    "    \"wash_hands_frequently\": 42,\n",
    "    \"avoid_large_gatherings\": 87,\n",
    "    \"reduced_outside_home_cont\": 82,\n",
    "    \"avoid_touch_face\": 128,\n",
    "    \"dr_recc_h1n1_vacc\": 2160,\n",
    "    \"dr_recc_seasonal_vacc\": 2160,\n",
    "    \"chronic_medic_condition\": 971,\n",
    "    \"cont_child_undr_6_mnths\": 820,\n",
    "    \"is_health_worker\": 804,\n",
    "    \"has_health_insur\": 12274,\n",
    "    \"is_h1n1_vacc_effective\": 391,\n",
    "    \"is_h1n1_risky\": 388,\n",
    "    \"sick_from_h1n1_vacc\": 395,\n",
    "    \"is_seas_vacc_effective\": 462,\n",
    "    \"is_seas_risky\": 514,\n",
    "    \"sick_from_seas_vacc\": 537,\n",
    "    \"age_bracket\": 0,\n",
    "    \"qualification\": 0,\n",
    "    \"race\": 0,\n",
    "    \"sex\": 0,\n",
    "    \"income_level\": 0,\n",
    "    \"marital_status\": 0,\n",
    "    \"housing_status\": 0,\n",
    "    \"employment\": 0,\n",
    "    \"census_msa\": 0,\n",
    "    \"no_of_adults\": 249,\n",
    "    \"no_of_children\": 249,\n",
    "    \"h1n1_vaccine\": 0\n",
    "}\n",
    "\n",
    "# Fill NaN values with the mode for columns with more than 0 NaNs\n",
    "for column, na_count in nan_counts.items():\n",
    "    if na_count > 0:\n",
    "        h1n1_data[column].fillna(h1n1_data[column].mode()[0], inplace=True)\n",
    "\n",
    "# Display the first few rows to verify\n",
    "print(h1n1_data.head())"
   ]
  },
  {
   "cell_type": "code",
   "execution_count": 23,
   "id": "0c844ea1",
   "metadata": {},
   "outputs": [
    {
     "data": {
      "text/plain": [
       "unique_id                    0\n",
       "h1n1_worry                   0\n",
       "h1n1_awareness               0\n",
       "antiviral_medication         0\n",
       "contact_avoidance            0\n",
       "bought_face_mask             0\n",
       "wash_hands_frequently        0\n",
       "avoid_large_gatherings       0\n",
       "reduced_outside_home_cont    0\n",
       "avoid_touch_face             0\n",
       "dr_recc_h1n1_vacc            0\n",
       "dr_recc_seasonal_vacc        0\n",
       "chronic_medic_condition      0\n",
       "cont_child_undr_6_mnths      0\n",
       "is_health_worker             0\n",
       "has_health_insur             0\n",
       "is_h1n1_vacc_effective       0\n",
       "is_h1n1_risky                0\n",
       "sick_from_h1n1_vacc          0\n",
       "is_seas_vacc_effective       0\n",
       "is_seas_risky                0\n",
       "sick_from_seas_vacc          0\n",
       "age_bracket                  0\n",
       "qualification                0\n",
       "race                         0\n",
       "sex                          0\n",
       "income_level                 0\n",
       "marital_status               0\n",
       "housing_status               0\n",
       "employment                   0\n",
       "census_msa                   0\n",
       "no_of_adults                 0\n",
       "no_of_children               0\n",
       "h1n1_vaccine                 0\n",
       "dtype: int64"
      ]
     },
     "execution_count": 23,
     "metadata": {},
     "output_type": "execute_result"
    }
   ],
   "source": [
    "h1n1_data.isnull().sum()"
   ]
  },
  {
   "cell_type": "code",
   "execution_count": 24,
   "id": "7ef9e4b6",
   "metadata": {},
   "outputs": [
    {
     "data": {
      "text/plain": [
       "<AxesSubplot:>"
      ]
     },
     "execution_count": 24,
     "metadata": {},
     "output_type": "execute_result"
    },
    {
     "data": {
      "image/png": "[encoded data removed]",
      "text/plain": [
       "<Figure size 720x432 with 2 Axes>"
      ]
     },
     "metadata": {
      "needs_background": "light"
     },
     "output_type": "display_data"
    }
   ],
   "source": [
    "plt.figure(figsize=(10,6))\n",
    "sns.heatmap(h1n1_data.isnull(),yticklabels=False)"
   ]
  },
  {
   "cell_type": "code",
   "execution_count": 25,
   "id": "80acf2ff",
   "metadata": {},
   "outputs": [],
   "source": [
    "X = h1n1_data.drop('h1n1_vaccine', axis=1)\n",
    "y = h1n1_data['h1n1_vaccine']"
   ]
  },
  {
   "cell_type": "code",
   "execution_count": 26,
   "id": "f6301b55",
   "metadata": {},
   "outputs": [],
   "source": [
    "X_train, X_test, y_train, y_test = train_test_split(X, y, test_size=0.2, random_state=42)"
   ]
  },
  {
   "cell_type": "code",
   "execution_count": 27,
   "id": "8ca20969",
   "metadata": {},
   "outputs": [],
   "source": [
    "model=LogisticRegression(solver=\"liblinear\")"
   ]
  },
  {
   "cell_type": "code",
   "execution_count": 28,
   "id": "4342a6d3",
   "metadata": {},
   "outputs": [
    {
     "data": {
      "text/plain": [
       "LogisticRegression(solver='liblinear')"
      ]
     },
     "execution_count": 28,
     "metadata": {},
     "output_type": "execute_result"
    }
   ],
   "source": [
    "model.fit(X_train,y_train)"
   ]
  },
  {
   "cell_type": "code",
   "execution_count": 29,
   "id": "fb584c1b",
   "metadata": {},
   "outputs": [
    {
     "data": {
      "text/plain": [
       "0.79265153288088"
      ]
     },
     "execution_count": 29,
     "metadata": {},
     "output_type": "execute_result"
    }
   ],
   "source": [
    "model.score(X_train,y_train)"
   ]
  },
  {
   "cell_type": "code",
   "execution_count": 30,
   "id": "8c5cdc3e",
   "metadata": {},
   "outputs": [
    {
     "data": {
      "text/plain": [
       "0.7916510670160989"
      ]
     },
     "execution_count": 30,
     "metadata": {},
     "output_type": "execute_result"
    }
   ],
   "source": [
    "model.score(X_test,y_test)"
   ]
  },
  {
   "cell_type": "code",
   "execution_count": 31,
   "id": "cadbbaf8",
   "metadata": {},
   "outputs": [
    {
     "data": {
      "text/plain": [
       "DecisionTreeClassifier()"
      ]
     },
     "execution_count": 31,
     "metadata": {},
     "output_type": "execute_result"
    }
   ],
   "source": [
    "dtree=DecisionTreeClassifier(criterion=\"gini\")\n",
    "dtree.fit(X_train,y_train)"
   ]
  },
  {
   "cell_type": "code",
   "execution_count": 32,
   "id": "1b1faecc",
   "metadata": {},
   "outputs": [
    {
     "data": {
      "text/plain": [
       "1.0"
      ]
     },
     "execution_count": 32,
     "metadata": {},
     "output_type": "execute_result"
    }
   ],
   "source": [
    "dtree.score(X_train,y_train)"
   ]
  },
  {
   "cell_type": "code",
   "execution_count": 33,
   "id": "d19683af",
   "metadata": {},
   "outputs": [
    {
     "data": {
      "text/plain": [
       "0.7620741295394983"
      ]
     },
     "execution_count": 33,
     "metadata": {},
     "output_type": "execute_result"
    }
   ],
   "source": [
    "dtree.score(X_test,y_test)"
   ]
  },
  {
   "cell_type": "code",
   "execution_count": 34,
   "id": "26c3d360",
   "metadata": {},
   "outputs": [
    {
     "name": "stdout",
     "output_type": "stream",
     "text": [
      "0.8259302597706529\n"
     ]
    }
   ],
   "source": [
    "dTreeR = DecisionTreeClassifier(criterion = 'gini', max_depth = 3, random_state=0)\n",
    "dTreeR.fit(X_train, y_train)\n",
    "print(dTreeR.score(X_train, y_train))"
   ]
  },
  {
   "cell_type": "code",
   "execution_count": 35,
   "id": "b4aa3ae7",
   "metadata": {},
   "outputs": [],
   "source": [
    "y_predict = dTreeR.predict(X_test)"
   ]
  },
  {
   "cell_type": "code",
   "execution_count": 36,
   "id": "86a57226",
   "metadata": {},
   "outputs": [
    {
     "name": "stdout",
     "output_type": "stream",
     "text": [
      "0.8311493822538375\n"
     ]
    }
   ],
   "source": [
    "print(dTreeR.score(X_test, y_test))"
   ]
  },
  {
   "cell_type": "code",
   "execution_count": 37,
   "id": "7d36e2db",
   "metadata": {},
   "outputs": [
    {
     "data": {
      "text/plain": [
       "<AxesSubplot:>"
      ]
     },
     "execution_count": 37,
     "metadata": {},
     "output_type": "execute_result"
    },
    {
     "data": {
      "image/png": "[encoded data removed]",
      "text/plain": [
       "<Figure size 504x360 with 2 Axes>"
      ]
     },
     "metadata": {
      "needs_background": "light"
     },
     "output_type": "display_data"
    }
   ],
   "source": [
    "from sklearn import metrics\n",
    "cm=metrics.confusion_matrix(y_test, y_predict,labels=[0, 1])\n",
    "\n",
    "df_cm = pd.DataFrame(cm, index = [i for i in [\"No\",\"Yes\"]],\n",
    "                  columns = [i for i in [\"No\",\"Yes\"]])\n",
    "plt.figure(figsize = (7,5))\n",
    "sns.heatmap(df_cm, annot=True ,fmt='g')"
   ]
  },
  {
   "cell_type": "code",
   "execution_count": 38,
   "id": "bdaa12c1",
   "metadata": {},
   "outputs": [
    {
     "name": "stdout",
     "output_type": "stream",
     "text": [
      "0.8287158367652565\n"
     ]
    }
   ],
   "source": [
    "from sklearn.ensemble import BaggingClassifier\n",
    "bgcl = BaggingClassifier( n_estimators=150,base_estimator=dTreeR,random_state=0)\n",
    "bgcl = bgcl.fit(X_train,y_train)\n",
    "y_predict = bgcl.predict(X_test)\n",
    "print(bgcl.score(X_test,y_test))"
   ]
  },
  {
   "cell_type": "code",
   "execution_count": 39,
   "id": "f8b800fa",
   "metadata": {},
   "outputs": [
    {
     "data": {
      "text/plain": [
       "<AxesSubplot:>"
      ]
     },
     "execution_count": 39,
     "metadata": {},
     "output_type": "execute_result"
    },
    {
     "data": {
      "image/png": "[encoded data removed]",
      "text/plain": [
       "<Figure size 504x360 with 2 Axes>"
      ]
     },
     "metadata": {
      "needs_background": "light"
     },
     "output_type": "display_data"
    }
   ],
   "source": [
    "from sklearn import metrics\n",
    "cm=metrics.confusion_matrix(y_test, y_predict,labels=[0, 1])\n",
    "\n",
    "df_cm = pd.DataFrame(cm, index = [i for i in [\"No\",\"Yes\"]],\n",
    "                  columns = [i for i in [\"No\",\"Yes\"]])\n",
    "plt.figure(figsize = (7,5))\n",
    "sns.heatmap(df_cm, annot=True ,fmt='g')"
   ]
  },
  {
   "cell_type": "code",
   "execution_count": 40,
   "id": "878ecd4c",
   "metadata": {},
   "outputs": [
    {
     "name": "stdout",
     "output_type": "stream",
     "text": [
      "0.8388244103332085\n"
     ]
    }
   ],
   "source": [
    "from sklearn.ensemble import AdaBoostClassifier\n",
    "abcl = AdaBoostClassifier(n_estimators = 120,random_state=0)\n",
    "abcl = abcl.fit(X_train, y_train)\n",
    "y_predict = abcl.predict(X_test)\n",
    "print(abcl.score(X_test, y_test))"
   ]
  },
  {
   "cell_type": "code",
   "execution_count": 41,
   "id": "3ecd91be",
   "metadata": {},
   "outputs": [
    {
     "name": "stdout",
     "output_type": "stream",
     "text": [
      "0.8405091725945338\n"
     ]
    }
   ],
   "source": [
    "from sklearn.ensemble import GradientBoostingClassifier\n",
    "gbcl = GradientBoostingClassifier(n_estimators = 200,random_state=0)\n",
    "gbcl = gbcl.fit(X_train, y_train)\n",
    "y_predict = gbcl.predict(X_test)\n",
    "print(gbcl.score(X_test, y_test))"
   ]
  },
  {
   "cell_type": "code",
   "execution_count": 42,
   "id": "629d60cc",
   "metadata": {},
   "outputs": [
    {
     "data": {
      "text/plain": [
       "<AxesSubplot:>"
      ]
     },
     "execution_count": 42,
     "metadata": {},
     "output_type": "execute_result"
    },
    {
     "data": {
      "image/png": "[encoded data removed]",
      "text/plain": [
       "<Figure size 504x360 with 2 Axes>"
      ]
     },
     "metadata": {
      "needs_background": "light"
     },
     "output_type": "display_data"
    }
   ],
   "source": [
    "cm=metrics.confusion_matrix(y_test, y_predict,labels=[0, 1])\n",
    "\n",
    "df_cm = pd.DataFrame(cm, index = [i for i in [\"No\",\"Yes\"]],\n",
    "                  columns = [i for i in [\"No\",\"Yes\"]])\n",
    "plt.figure(figsize = (7,5))\n",
    "sns.heatmap(df_cm, annot=True ,fmt='g')"
   ]
  },
  {
   "cell_type": "code",
   "execution_count": 43,
   "id": "49c10a69",
   "metadata": {},
   "outputs": [],
   "source": [
    "from sklearn.ensemble import RandomForestClassifier\n",
    "rfcl = RandomForestClassifier(n_estimators = 160, random_state=0,max_features=3)\n",
    "rfcl = rfcl.fit(X_train, y_train)"
   ]
  },
  {
   "cell_type": "code",
   "execution_count": 44,
   "id": "0ffdd4bc",
   "metadata": {},
   "outputs": [
    {
     "name": "stdout",
     "output_type": "stream",
     "text": [
      "0.8390116061400225\n"
     ]
    },
    {
     "data": {
      "text/plain": [
       "<AxesSubplot:>"
      ]
     },
     "execution_count": 44,
     "metadata": {},
     "output_type": "execute_result"
    },
    {
     "data": {
      "image/png": "[encoded data removed]",
      "text/plain": [
       "<Figure size 504x360 with 2 Axes>"
      ]
     },
     "metadata": {
      "needs_background": "light"
     },
     "output_type": "display_data"
    }
   ],
   "source": [
    "y_predict = rfcl.predict(X_test)\n",
    "print(rfcl.score(X_test, y_test))\n",
    "cm=metrics.confusion_matrix(y_test, y_predict,labels=[0, 1])\n",
    "\n",
    "df_cm = pd.DataFrame(cm, index = [i for i in [\"No\",\"Yes\"]],\n",
    "                  columns = [i for i in [\"No\",\"Yes\"]])\n",
    "plt.figure(figsize = (7,5))\n",
    "sns.heatmap(df_cm, annot=True ,fmt='g')"
   ]
  },
  {
   "cell_type": "code",
   "execution_count": 45,
   "id": "5f95c28a",
   "metadata": {},
   "outputs": [
    {
     "data": {
      "text/html": [
       "<div>\n",
       "<style scoped>\n",
       "    .dataframe tbody tr th:only-of-type {\n",
       "        vertical-align: middle;\n",
       "    }\n",
       "\n",
       "    .dataframe tbody tr th {\n",
       "        vertical-align: top;\n",
       "    }\n",
       "\n",
       "    .dataframe thead th {\n",
       "        text-align: right;\n",
       "    }\n",
       "</style>\n",
       "<table border=\"1\" class=\"dataframe\">\n",
       "  <thead>\n",
       "    <tr style=\"text-align: right;\">\n",
       "      <th></th>\n",
       "      <th>unique_id</th>\n",
       "      <th>h1n1_worry</th>\n",
       "      <th>h1n1_awareness</th>\n",
       "      <th>antiviral_medication</th>\n",
       "      <th>contact_avoidance</th>\n",
       "      <th>bought_face_mask</th>\n",
       "      <th>wash_hands_frequently</th>\n",
       "      <th>avoid_large_gatherings</th>\n",
       "      <th>reduced_outside_home_cont</th>\n",
       "      <th>avoid_touch_face</th>\n",
       "      <th>...</th>\n",
       "      <th>qualification</th>\n",
       "      <th>race</th>\n",
       "      <th>sex</th>\n",
       "      <th>income_level</th>\n",
       "      <th>marital_status</th>\n",
       "      <th>housing_status</th>\n",
       "      <th>employment</th>\n",
       "      <th>census_msa</th>\n",
       "      <th>no_of_adults</th>\n",
       "      <th>no_of_children</th>\n",
       "    </tr>\n",
       "  </thead>\n",
       "  <tbody>\n",
       "    <tr>\n",
       "      <th>count</th>\n",
       "      <td>2.670700e+04</td>\n",
       "      <td>2.670700e+04</td>\n",
       "      <td>2.670700e+04</td>\n",
       "      <td>2.670700e+04</td>\n",
       "      <td>2.670700e+04</td>\n",
       "      <td>2.670700e+04</td>\n",
       "      <td>2.670700e+04</td>\n",
       "      <td>2.670700e+04</td>\n",
       "      <td>2.670700e+04</td>\n",
       "      <td>2.670700e+04</td>\n",
       "      <td>...</td>\n",
       "      <td>2.670700e+04</td>\n",
       "      <td>2.670700e+04</td>\n",
       "      <td>2.670700e+04</td>\n",
       "      <td>2.670700e+04</td>\n",
       "      <td>2.670700e+04</td>\n",
       "      <td>2.670700e+04</td>\n",
       "      <td>2.670700e+04</td>\n",
       "      <td>2.670700e+04</td>\n",
       "      <td>2.670700e+04</td>\n",
       "      <td>2.670700e+04</td>\n",
       "    </tr>\n",
       "    <tr>\n",
       "      <th>mean</th>\n",
       "      <td>-1.205877e-16</td>\n",
       "      <td>3.376380e-15</td>\n",
       "      <td>4.955036e-16</td>\n",
       "      <td>-2.250107e-16</td>\n",
       "      <td>1.070465e-15</td>\n",
       "      <td>-1.826865e-15</td>\n",
       "      <td>-2.722069e-15</td>\n",
       "      <td>6.178372e-16</td>\n",
       "      <td>-5.165632e-16</td>\n",
       "      <td>1.849695e-15</td>\n",
       "      <td>...</td>\n",
       "      <td>5.055886e-16</td>\n",
       "      <td>-2.878154e-16</td>\n",
       "      <td>1.786783e-16</td>\n",
       "      <td>-4.642426e-16</td>\n",
       "      <td>-5.559720e-16</td>\n",
       "      <td>-3.861566e-16</td>\n",
       "      <td>-1.023480e-15</td>\n",
       "      <td>3.728436e-16</td>\n",
       "      <td>3.692021e-16</td>\n",
       "      <td>1.449039e-15</td>\n",
       "    </tr>\n",
       "    <tr>\n",
       "      <th>std</th>\n",
       "      <td>1.000019e+00</td>\n",
       "      <td>1.000019e+00</td>\n",
       "      <td>1.000019e+00</td>\n",
       "      <td>1.000019e+00</td>\n",
       "      <td>1.000019e+00</td>\n",
       "      <td>1.000019e+00</td>\n",
       "      <td>1.000019e+00</td>\n",
       "      <td>1.000019e+00</td>\n",
       "      <td>1.000019e+00</td>\n",
       "      <td>1.000019e+00</td>\n",
       "      <td>...</td>\n",
       "      <td>1.000019e+00</td>\n",
       "      <td>1.000019e+00</td>\n",
       "      <td>1.000019e+00</td>\n",
       "      <td>1.000019e+00</td>\n",
       "      <td>1.000019e+00</td>\n",
       "      <td>1.000019e+00</td>\n",
       "      <td>1.000019e+00</td>\n",
       "      <td>1.000019e+00</td>\n",
       "      <td>1.000019e+00</td>\n",
       "      <td>1.000019e+00</td>\n",
       "    </tr>\n",
       "    <tr>\n",
       "      <th>min</th>\n",
       "      <td>-1.731986e+00</td>\n",
       "      <td>-1.781960e+00</td>\n",
       "      <td>-2.044279e+00</td>\n",
       "      <td>-2.262927e-01</td>\n",
       "      <td>-1.634957e+00</td>\n",
       "      <td>-2.720971e-01</td>\n",
       "      <td>-2.177944e+00</td>\n",
       "      <td>-7.458901e-01</td>\n",
       "      <td>-7.117983e-01</td>\n",
       "      <td>-1.453764e+00</td>\n",
       "      <td>...</td>\n",
       "      <td>-1.556348e+00</td>\n",
       "      <td>-2.784094e+00</td>\n",
       "      <td>-8.271240e-01</td>\n",
       "      <td>-8.566326e-01</td>\n",
       "      <td>-9.170715e-01</td>\n",
       "      <td>-6.024625e-01</td>\n",
       "      <td>-8.058883e-01</td>\n",
       "      <td>-1.012379e+00</td>\n",
       "      <td>-1.183463e+00</td>\n",
       "      <td>-5.723870e-01</td>\n",
       "    </tr>\n",
       "    <tr>\n",
       "      <th>25%</th>\n",
       "      <td>-8.659930e-01</td>\n",
       "      <td>-6.818488e-01</td>\n",
       "      <td>-4.236260e-01</td>\n",
       "      <td>-2.262927e-01</td>\n",
       "      <td>-1.634957e+00</td>\n",
       "      <td>-2.720971e-01</td>\n",
       "      <td>4.591486e-01</td>\n",
       "      <td>-7.458901e-01</td>\n",
       "      <td>-7.117983e-01</td>\n",
       "      <td>-1.453764e+00</td>\n",
       "      <td>...</td>\n",
       "      <td>-7.134759e-01</td>\n",
       "      <td>4.654419e-01</td>\n",
       "      <td>-8.271240e-01</td>\n",
       "      <td>-8.566326e-01</td>\n",
       "      <td>-9.170715e-01</td>\n",
       "      <td>-6.024625e-01</td>\n",
       "      <td>-8.058883e-01</td>\n",
       "      <td>-1.012379e+00</td>\n",
       "      <td>-1.183463e+00</td>\n",
       "      <td>-5.723870e-01</td>\n",
       "    </tr>\n",
       "    <tr>\n",
       "      <th>50%</th>\n",
       "      <td>0.000000e+00</td>\n",
       "      <td>4.182621e-01</td>\n",
       "      <td>-4.236260e-01</td>\n",
       "      <td>-2.262927e-01</td>\n",
       "      <td>6.116368e-01</td>\n",
       "      <td>-2.720971e-01</td>\n",
       "      <td>4.591486e-01</td>\n",
       "      <td>-7.458901e-01</td>\n",
       "      <td>-7.117983e-01</td>\n",
       "      <td>6.878696e-01</td>\n",
       "      <td>...</td>\n",
       "      <td>1.293958e-01</td>\n",
       "      <td>4.654419e-01</td>\n",
       "      <td>-8.271240e-01</td>\n",
       "      <td>4.149824e-02</td>\n",
       "      <td>-9.170715e-01</td>\n",
       "      <td>-6.024625e-01</td>\n",
       "      <td>-8.058883e-01</td>\n",
       "      <td>2.022483e-01</td>\n",
       "      <td>1.499300e-01</td>\n",
       "      <td>-5.723870e-01</td>\n",
       "    </tr>\n",
       "    <tr>\n",
       "      <th>75%</th>\n",
       "      <td>8.659930e-01</td>\n",
       "      <td>4.182621e-01</td>\n",
       "      <td>1.197027e+00</td>\n",
       "      <td>-2.262927e-01</td>\n",
       "      <td>6.116368e-01</td>\n",
       "      <td>-2.720971e-01</td>\n",
       "      <td>4.591486e-01</td>\n",
       "      <td>1.340680e+00</td>\n",
       "      <td>1.404892e+00</td>\n",
       "      <td>6.878696e-01</td>\n",
       "      <td>...</td>\n",
       "      <td>9.722676e-01</td>\n",
       "      <td>4.654419e-01</td>\n",
       "      <td>1.209008e+00</td>\n",
       "      <td>9.396291e-01</td>\n",
       "      <td>7.650870e-01</td>\n",
       "      <td>1.004445e+00</td>\n",
       "      <td>4.221648e-01</td>\n",
       "      <td>1.416875e+00</td>\n",
       "      <td>1.499300e-01</td>\n",
       "      <td>5.084062e-01</td>\n",
       "    </tr>\n",
       "    <tr>\n",
       "      <th>max</th>\n",
       "      <td>1.731986e+00</td>\n",
       "      <td>1.518373e+00</td>\n",
       "      <td>1.197027e+00</td>\n",
       "      <td>4.419056e+00</td>\n",
       "      <td>6.116368e-01</td>\n",
       "      <td>3.675158e+00</td>\n",
       "      <td>4.591486e-01</td>\n",
       "      <td>1.340680e+00</td>\n",
       "      <td>1.404892e+00</td>\n",
       "      <td>6.878696e-01</td>\n",
       "      <td>...</td>\n",
       "      <td>1.815139e+00</td>\n",
       "      <td>4.654419e-01</td>\n",
       "      <td>1.209008e+00</td>\n",
       "      <td>1.837760e+00</td>\n",
       "      <td>2.447246e+00</td>\n",
       "      <td>2.611353e+00</td>\n",
       "      <td>2.878271e+00</td>\n",
       "      <td>1.416875e+00</td>\n",
       "      <td>2.816717e+00</td>\n",
       "      <td>2.669993e+00</td>\n",
       "    </tr>\n",
       "  </tbody>\n",
       "</table>\n",
       "<p>8 rows × 33 columns</p>\n",
       "</div>"
      ],
      "text/plain": [
       "          unique_id    h1n1_worry  h1n1_awareness  antiviral_medication  \\\n",
       "count  2.670700e+04  2.670700e+04    2.670700e+04          2.670700e+04   \n",
       "mean  -1.205877e-16  3.376380e-15    4.955036e-16         -2.250107e-16   \n",
       "std    1.000019e+00  1.000019e+00    1.000019e+00          1.000019e+00   \n",
       "min   -1.731986e+00 -1.781960e+00   -2.044279e+00         -2.262927e-01   \n",
       "25%   -8.659930e-01 -6.818488e-01   -4.236260e-01         -2.262927e-01   \n",
       "50%    0.000000e+00  4.182621e-01   -4.236260e-01         -2.262927e-01   \n",
       "75%    8.659930e-01  4.182621e-01    1.197027e+00         -2.262927e-01   \n",
       "max    1.731986e+00  1.518373e+00    1.197027e+00          4.419056e+00   \n",
       "\n",
       "       contact_avoidance  bought_face_mask  wash_hands_frequently  \\\n",
       "count       2.670700e+04      2.670700e+04           2.670700e+04   \n",
       "mean        1.070465e-15     -1.826865e-15          -2.722069e-15   \n",
       "std         1.000019e+00      1.000019e+00           1.000019e+00   \n",
       "min        -1.634957e+00     -2.720971e-01          -2.177944e+00   \n",
       "25%        -1.634957e+00     -2.720971e-01           4.591486e-01   \n",
       "50%         6.116368e-01     -2.720971e-01           4.591486e-01   \n",
       "75%         6.116368e-01     -2.720971e-01           4.591486e-01   \n",
       "max         6.116368e-01      3.675158e+00           4.591486e-01   \n",
       "\n",
       "       avoid_large_gatherings  reduced_outside_home_cont  avoid_touch_face  \\\n",
       "count            2.670700e+04               2.670700e+04      2.670700e+04   \n",
       "mean             6.178372e-16              -5.165632e-16      1.849695e-15   \n",
       "std              1.000019e+00               1.000019e+00      1.000019e+00   \n",
       "min             -7.458901e-01              -7.117983e-01     -1.453764e+00   \n",
       "25%             -7.458901e-01              -7.117983e-01     -1.453764e+00   \n",
       "50%             -7.458901e-01              -7.117983e-01      6.878696e-01   \n",
       "75%              1.340680e+00               1.404892e+00      6.878696e-01   \n",
       "max              1.340680e+00               1.404892e+00      6.878696e-01   \n",
       "\n",
       "       ...  qualification          race           sex  income_level  \\\n",
       "count  ...   2.670700e+04  2.670700e+04  2.670700e+04  2.670700e+04   \n",
       "mean   ...   5.055886e-16 -2.878154e-16  1.786783e-16 -4.642426e-16   \n",
       "std    ...   1.000019e+00  1.000019e+00  1.000019e+00  1.000019e+00   \n",
       "min    ...  -1.556348e+00 -2.784094e+00 -8.271240e-01 -8.566326e-01   \n",
       "25%    ...  -7.134759e-01  4.654419e-01 -8.271240e-01 -8.566326e-01   \n",
       "50%    ...   1.293958e-01  4.654419e-01 -8.271240e-01  4.149824e-02   \n",
       "75%    ...   9.722676e-01  4.654419e-01  1.209008e+00  9.396291e-01   \n",
       "max    ...   1.815139e+00  4.654419e-01  1.209008e+00  1.837760e+00   \n",
       "\n",
       "       marital_status  housing_status    employment    census_msa  \\\n",
       "count    2.670700e+04    2.670700e+04  2.670700e+04  2.670700e+04   \n",
       "mean    -5.559720e-16   -3.861566e-16 -1.023480e-15  3.728436e-16   \n",
       "std      1.000019e+00    1.000019e+00  1.000019e+00  1.000019e+00   \n",
       "min     -9.170715e-01   -6.024625e-01 -8.058883e-01 -1.012379e+00   \n",
       "25%     -9.170715e-01   -6.024625e-01 -8.058883e-01 -1.012379e+00   \n",
       "50%     -9.170715e-01   -6.024625e-01 -8.058883e-01  2.022483e-01   \n",
       "75%      7.650870e-01    1.004445e+00  4.221648e-01  1.416875e+00   \n",
       "max      2.447246e+00    2.611353e+00  2.878271e+00  1.416875e+00   \n",
       "\n",
       "       no_of_adults  no_of_children  \n",
       "count  2.670700e+04    2.670700e+04  \n",
       "mean   3.692021e-16    1.449039e-15  \n",
       "std    1.000019e+00    1.000019e+00  \n",
       "min   -1.183463e+00   -5.723870e-01  \n",
       "25%   -1.183463e+00   -5.723870e-01  \n",
       "50%    1.499300e-01   -5.723870e-01  \n",
       "75%    1.499300e-01    5.084062e-01  \n",
       "max    2.816717e+00    2.669993e+00  \n",
       "\n",
       "[8 rows x 33 columns]"
      ]
     },
     "execution_count": 45,
     "metadata": {},
     "output_type": "execute_result"
    }
   ],
   "source": [
    "from scipy.stats import zscore\n",
    "XScaled  = X.apply(zscore)  # convert all attributes to Z scale \n",
    "\n",
    "XScaled.describe()"
   ]
  },
  {
   "cell_type": "code",
   "execution_count": 46,
   "id": "2a842e3c",
   "metadata": {},
   "outputs": [],
   "source": [
    "NNH = KNeighborsClassifier(n_neighbors= 5 , weights = 'distance' ,metric='euclidean')"
   ]
  },
  {
   "cell_type": "code",
   "execution_count": 47,
   "id": "ee1c4bb7",
   "metadata": {},
   "outputs": [
    {
     "data": {
      "text/plain": [
       "KNeighborsClassifier(metric='euclidean', weights='distance')"
      ]
     },
     "execution_count": 47,
     "metadata": {},
     "output_type": "execute_result"
    }
   ],
   "source": [
    "NNH.fit(XScaled, y)"
   ]
  },
  {
   "cell_type": "code",
   "execution_count": null,
   "id": "15818a91",
   "metadata": {},
   "outputs": [],
   "source": []
  }
 ],
 "metadata": {
  "kernelspec": {
   "display_name": "Python 3 (ipykernel)",
   "language": "python",
   "name": "python3"
  },
  "language_info": {
   "codemirror_mode": {
    "name": "ipython",
    "version": 3
   },
   "file_extension": ".py",
   "mimetype": "text/x-python",
   "name": "python",
   "nbconvert_exporter": "python",
   "pygments_lexer": "ipython3",
   "version": "3.9.12"
  }
 },
 "nbformat": 4,
 "nbformat_minor": 5
}
